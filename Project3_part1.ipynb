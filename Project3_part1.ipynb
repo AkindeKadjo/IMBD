{
 "cells": [
  {
   "cell_type": "markdown",
   "id": "a6717599",
   "metadata": {},
   "source": [
    "Name: Akinde Kadjo"
   ]
  },
  {
   "cell_type": "markdown",
   "id": "9ad67af3",
   "metadata": {},
   "source": [
    "**Project 3 part 1 Goal:Produce a MySQL database on Movies from a subset of IMDB's publicly available dataset. Ultimately, I will use this database to analyze what makes a movie successful and will provide recommendations to the stakeholder on how to make a successful movie.**"
   ]
  },
  {
   "cell_type": "markdown",
   "id": "72c6207a",
   "metadata": {},
   "source": [
    "# Imports and Data Loading"
   ]
  },
  {
   "cell_type": "code",
   "execution_count": 1,
   "id": "9adbe554",
   "metadata": {},
   "outputs": [],
   "source": [
    "#Importing all of the libraries that may be needed for the project\n",
    "import matplotlib.pyplot as plt\n",
    "import seaborn as sns\n",
    "import pandas as pd\n",
    "import numpy as np"
   ]
  },
  {
   "cell_type": "code",
   "execution_count": 2,
   "id": "6af5297e",
   "metadata": {},
   "outputs": [],
   "source": [
    "#Loading the data from the url\n",
    "basics_url=\"https://datasets.imdbws.com/title.basics.tsv.gz\"\n",
    "ratings_url =\"https://datasets.imdbws.com/title.ratings.tsv.gz\"\n",
    "akas_url =\"https://datasets.imdbws.com/title.akas.tsv.gz\"\n",
    "basics = pd.read_csv(basics_url, sep='\\t', low_memory=False)\n",
    "ratings = pd.read_csv(ratings_url, sep='\\t', low_memory=False)\n",
    "akas = pd.read_csv(akas_url, sep='\\t', low_memory=False)"
   ]
  },
  {
   "cell_type": "markdown",
   "id": "36694682",
   "metadata": {},
   "source": [
    "# Data Cleaning"
   ]
  },
  {
   "cell_type": "markdown",
   "id": "b2ac4294",
   "metadata": {},
   "source": [
    "## Akas df Cleaning"
   ]
  },
  {
   "cell_type": "code",
   "execution_count": 3,
   "id": "25b694a3",
   "metadata": {},
   "outputs": [
    {
     "data": {
      "text/html": [
       "<div>\n",
       "<style scoped>\n",
       "    .dataframe tbody tr th:only-of-type {\n",
       "        vertical-align: middle;\n",
       "    }\n",
       "\n",
       "    .dataframe tbody tr th {\n",
       "        vertical-align: top;\n",
       "    }\n",
       "\n",
       "    .dataframe thead th {\n",
       "        text-align: right;\n",
       "    }\n",
       "</style>\n",
       "<table border=\"1\" class=\"dataframe\">\n",
       "  <thead>\n",
       "    <tr style=\"text-align: right;\">\n",
       "      <th></th>\n",
       "      <th>titleId</th>\n",
       "      <th>ordering</th>\n",
       "      <th>title</th>\n",
       "      <th>region</th>\n",
       "      <th>language</th>\n",
       "      <th>types</th>\n",
       "      <th>attributes</th>\n",
       "      <th>isOriginalTitle</th>\n",
       "    </tr>\n",
       "  </thead>\n",
       "  <tbody>\n",
       "    <tr>\n",
       "      <th>0</th>\n",
       "      <td>tt0000001</td>\n",
       "      <td>1</td>\n",
       "      <td>Карменсіта</td>\n",
       "      <td>UA</td>\n",
       "      <td>NaN</td>\n",
       "      <td>imdbDisplay</td>\n",
       "      <td>NaN</td>\n",
       "      <td>0</td>\n",
       "    </tr>\n",
       "    <tr>\n",
       "      <th>1</th>\n",
       "      <td>tt0000001</td>\n",
       "      <td>2</td>\n",
       "      <td>Carmencita</td>\n",
       "      <td>DE</td>\n",
       "      <td>NaN</td>\n",
       "      <td>NaN</td>\n",
       "      <td>literal title</td>\n",
       "      <td>0</td>\n",
       "    </tr>\n",
       "    <tr>\n",
       "      <th>2</th>\n",
       "      <td>tt0000001</td>\n",
       "      <td>3</td>\n",
       "      <td>Carmencita - spanyol tánc</td>\n",
       "      <td>HU</td>\n",
       "      <td>NaN</td>\n",
       "      <td>imdbDisplay</td>\n",
       "      <td>NaN</td>\n",
       "      <td>0</td>\n",
       "    </tr>\n",
       "    <tr>\n",
       "      <th>3</th>\n",
       "      <td>tt0000001</td>\n",
       "      <td>4</td>\n",
       "      <td>Καρμενσίτα</td>\n",
       "      <td>GR</td>\n",
       "      <td>NaN</td>\n",
       "      <td>imdbDisplay</td>\n",
       "      <td>NaN</td>\n",
       "      <td>0</td>\n",
       "    </tr>\n",
       "    <tr>\n",
       "      <th>4</th>\n",
       "      <td>tt0000001</td>\n",
       "      <td>5</td>\n",
       "      <td>Карменсита</td>\n",
       "      <td>RU</td>\n",
       "      <td>NaN</td>\n",
       "      <td>imdbDisplay</td>\n",
       "      <td>NaN</td>\n",
       "      <td>0</td>\n",
       "    </tr>\n",
       "  </tbody>\n",
       "</table>\n",
       "</div>"
      ],
      "text/plain": [
       "     titleId  ordering                      title region language  \\\n",
       "0  tt0000001         1                 Карменсіта     UA      NaN   \n",
       "1  tt0000001         2                 Carmencita     DE      NaN   \n",
       "2  tt0000001         3  Carmencita - spanyol tánc     HU      NaN   \n",
       "3  tt0000001         4                 Καρμενσίτα     GR      NaN   \n",
       "4  tt0000001         5                 Карменсита     RU      NaN   \n",
       "\n",
       "         types     attributes isOriginalTitle  \n",
       "0  imdbDisplay            NaN               0  \n",
       "1          NaN  literal title               0  \n",
       "2  imdbDisplay            NaN               0  \n",
       "3  imdbDisplay            NaN               0  \n",
       "4  imdbDisplay            NaN               0  "
      ]
     },
     "execution_count": 3,
     "metadata": {},
     "output_type": "execute_result"
    }
   ],
   "source": [
    "#Replace \"\\N\" with np.nan\n",
    "akas.replace({'\\\\N':np.nan}, inplace = True)\n",
    "akas.head()"
   ]
  },
  {
   "cell_type": "code",
   "execution_count": 4,
   "id": "4f245956",
   "metadata": {},
   "outputs": [
    {
     "data": {
      "text/plain": [
       "(33781109, 8)"
      ]
     },
     "execution_count": 4,
     "metadata": {},
     "output_type": "execute_result"
    }
   ],
   "source": [
    "akas.shape"
   ]
  },
  {
   "cell_type": "code",
   "execution_count": 5,
   "id": "9c7a8eef",
   "metadata": {},
   "outputs": [
    {
     "data": {
      "text/plain": [
       "(1366189, 8)"
      ]
     },
     "execution_count": 5,
     "metadata": {},
     "output_type": "execute_result"
    }
   ],
   "source": [
    "#keep only US movies\n",
    "in_us = akas['region'] == 'US'\n",
    "akas_df = akas[in_us]\n",
    "akas_df.shape"
   ]
  },
  {
   "cell_type": "code",
   "execution_count": 6,
   "id": "51a779ed",
   "metadata": {},
   "outputs": [],
   "source": [
    "#saving it to the Data folder\n",
    "akas_df.to_csv('Data/akas.csv') "
   ]
  },
  {
   "cell_type": "markdown",
   "id": "3986ce7f",
   "metadata": {},
   "source": [
    "## Basic df Cleaning"
   ]
  },
  {
   "cell_type": "code",
   "execution_count": 7,
   "id": "ee724bd6",
   "metadata": {},
   "outputs": [
    {
     "data": {
      "text/html": [
       "<div>\n",
       "<style scoped>\n",
       "    .dataframe tbody tr th:only-of-type {\n",
       "        vertical-align: middle;\n",
       "    }\n",
       "\n",
       "    .dataframe tbody tr th {\n",
       "        vertical-align: top;\n",
       "    }\n",
       "\n",
       "    .dataframe thead th {\n",
       "        text-align: right;\n",
       "    }\n",
       "</style>\n",
       "<table border=\"1\" class=\"dataframe\">\n",
       "  <thead>\n",
       "    <tr style=\"text-align: right;\">\n",
       "      <th></th>\n",
       "      <th>tconst</th>\n",
       "      <th>titleType</th>\n",
       "      <th>primaryTitle</th>\n",
       "      <th>originalTitle</th>\n",
       "      <th>isAdult</th>\n",
       "      <th>startYear</th>\n",
       "      <th>endYear</th>\n",
       "      <th>runtimeMinutes</th>\n",
       "      <th>genres</th>\n",
       "    </tr>\n",
       "  </thead>\n",
       "  <tbody>\n",
       "    <tr>\n",
       "      <th>0</th>\n",
       "      <td>tt0000001</td>\n",
       "      <td>short</td>\n",
       "      <td>Carmencita</td>\n",
       "      <td>Carmencita</td>\n",
       "      <td>0</td>\n",
       "      <td>1894</td>\n",
       "      <td>NaN</td>\n",
       "      <td>1</td>\n",
       "      <td>Documentary,Short</td>\n",
       "    </tr>\n",
       "    <tr>\n",
       "      <th>1</th>\n",
       "      <td>tt0000002</td>\n",
       "      <td>short</td>\n",
       "      <td>Le clown et ses chiens</td>\n",
       "      <td>Le clown et ses chiens</td>\n",
       "      <td>0</td>\n",
       "      <td>1892</td>\n",
       "      <td>NaN</td>\n",
       "      <td>5</td>\n",
       "      <td>Animation,Short</td>\n",
       "    </tr>\n",
       "    <tr>\n",
       "      <th>2</th>\n",
       "      <td>tt0000003</td>\n",
       "      <td>short</td>\n",
       "      <td>Pauvre Pierrot</td>\n",
       "      <td>Pauvre Pierrot</td>\n",
       "      <td>0</td>\n",
       "      <td>1892</td>\n",
       "      <td>NaN</td>\n",
       "      <td>4</td>\n",
       "      <td>Animation,Comedy,Romance</td>\n",
       "    </tr>\n",
       "    <tr>\n",
       "      <th>3</th>\n",
       "      <td>tt0000004</td>\n",
       "      <td>short</td>\n",
       "      <td>Un bon bock</td>\n",
       "      <td>Un bon bock</td>\n",
       "      <td>0</td>\n",
       "      <td>1892</td>\n",
       "      <td>NaN</td>\n",
       "      <td>12</td>\n",
       "      <td>Animation,Short</td>\n",
       "    </tr>\n",
       "    <tr>\n",
       "      <th>4</th>\n",
       "      <td>tt0000005</td>\n",
       "      <td>short</td>\n",
       "      <td>Blacksmith Scene</td>\n",
       "      <td>Blacksmith Scene</td>\n",
       "      <td>0</td>\n",
       "      <td>1893</td>\n",
       "      <td>NaN</td>\n",
       "      <td>1</td>\n",
       "      <td>Comedy,Short</td>\n",
       "    </tr>\n",
       "  </tbody>\n",
       "</table>\n",
       "</div>"
      ],
      "text/plain": [
       "      tconst titleType            primaryTitle           originalTitle  \\\n",
       "0  tt0000001     short              Carmencita              Carmencita   \n",
       "1  tt0000002     short  Le clown et ses chiens  Le clown et ses chiens   \n",
       "2  tt0000003     short          Pauvre Pierrot          Pauvre Pierrot   \n",
       "3  tt0000004     short             Un bon bock             Un bon bock   \n",
       "4  tt0000005     short        Blacksmith Scene        Blacksmith Scene   \n",
       "\n",
       "  isAdult startYear endYear runtimeMinutes                    genres  \n",
       "0       0      1894     NaN              1         Documentary,Short  \n",
       "1       0      1892     NaN              5           Animation,Short  \n",
       "2       0      1892     NaN              4  Animation,Comedy,Romance  \n",
       "3       0      1892     NaN             12           Animation,Short  \n",
       "4       0      1893     NaN              1              Comedy,Short  "
      ]
     },
     "execution_count": 7,
     "metadata": {},
     "output_type": "execute_result"
    }
   ],
   "source": [
    "#Replace \"\\N\" with np.nan\n",
    "basics.replace({'\\\\N':np.nan}, inplace = True)\n",
    "basics.head()"
   ]
  },
  {
   "cell_type": "code",
   "execution_count": 8,
   "id": "c3163b17",
   "metadata": {},
   "outputs": [
    {
     "data": {
      "text/plain": [
       "(9362100, 9)"
      ]
     },
     "execution_count": 8,
     "metadata": {},
     "output_type": "execute_result"
    }
   ],
   "source": [
    "basics.shape"
   ]
  },
  {
   "cell_type": "code",
   "execution_count": 9,
   "id": "e2c079f6",
   "metadata": {},
   "outputs": [
    {
     "data": {
      "text/plain": [
       "(2561800, 9)"
      ]
     },
     "execution_count": 9,
     "metadata": {},
     "output_type": "execute_result"
    }
   ],
   "source": [
    "#Eliminate movies that are null for runtimeMinutes\n",
    "basics.dropna(subset=['runtimeMinutes'], inplace=True)\n",
    "basics.shape"
   ]
  },
  {
   "cell_type": "code",
   "execution_count": 10,
   "id": "18c95de2",
   "metadata": {},
   "outputs": [
    {
     "data": {
      "text/plain": [
       "(2493633, 9)"
      ]
     },
     "execution_count": 10,
     "metadata": {},
     "output_type": "execute_result"
    }
   ],
   "source": [
    "#Eliminate movies that are null for genre\n",
    "basics.dropna(subset=['genres'], inplace=True)\n",
    "basics.shape"
   ]
  },
  {
   "cell_type": "code",
   "execution_count": 11,
   "id": "111bd955",
   "metadata": {},
   "outputs": [
    {
     "data": {
      "text/plain": [
       "(371520, 9)"
      ]
     },
     "execution_count": 11,
     "metadata": {},
     "output_type": "execute_result"
    }
   ],
   "source": [
    "#keep only titleType==Movie\n",
    "movie_filt = basics['titleType'] == 'movie'\n",
    "basics_movie = basics[movie_filt]\n",
    "basics_movie.shape"
   ]
  },
  {
   "cell_type": "code",
   "execution_count": 12,
   "id": "6f920143",
   "metadata": {},
   "outputs": [
    {
     "data": {
      "text/html": [
       "<div>\n",
       "<style scoped>\n",
       "    .dataframe tbody tr th:only-of-type {\n",
       "        vertical-align: middle;\n",
       "    }\n",
       "\n",
       "    .dataframe tbody tr th {\n",
       "        vertical-align: top;\n",
       "    }\n",
       "\n",
       "    .dataframe thead th {\n",
       "        text-align: right;\n",
       "    }\n",
       "</style>\n",
       "<table border=\"1\" class=\"dataframe\">\n",
       "  <thead>\n",
       "    <tr style=\"text-align: right;\">\n",
       "      <th></th>\n",
       "      <th>tconst</th>\n",
       "      <th>titleType</th>\n",
       "      <th>primaryTitle</th>\n",
       "      <th>originalTitle</th>\n",
       "      <th>isAdult</th>\n",
       "      <th>startYear</th>\n",
       "      <th>endYear</th>\n",
       "      <th>runtimeMinutes</th>\n",
       "      <th>genres</th>\n",
       "    </tr>\n",
       "  </thead>\n",
       "  <tbody>\n",
       "    <tr>\n",
       "      <th>8</th>\n",
       "      <td>tt0000009</td>\n",
       "      <td>movie</td>\n",
       "      <td>Miss Jerry</td>\n",
       "      <td>Miss Jerry</td>\n",
       "      <td>0</td>\n",
       "      <td>1894</td>\n",
       "      <td>NaN</td>\n",
       "      <td>45</td>\n",
       "      <td>Romance</td>\n",
       "    </tr>\n",
       "    <tr>\n",
       "      <th>570</th>\n",
       "      <td>tt0000574</td>\n",
       "      <td>movie</td>\n",
       "      <td>The Story of the Kelly Gang</td>\n",
       "      <td>The Story of the Kelly Gang</td>\n",
       "      <td>0</td>\n",
       "      <td>1906</td>\n",
       "      <td>NaN</td>\n",
       "      <td>70</td>\n",
       "      <td>Action,Adventure,Biography</td>\n",
       "    </tr>\n",
       "    <tr>\n",
       "      <th>587</th>\n",
       "      <td>tt0000591</td>\n",
       "      <td>movie</td>\n",
       "      <td>The Prodigal Son</td>\n",
       "      <td>L'enfant prodigue</td>\n",
       "      <td>0</td>\n",
       "      <td>1907</td>\n",
       "      <td>NaN</td>\n",
       "      <td>90</td>\n",
       "      <td>Drama</td>\n",
       "    </tr>\n",
       "    <tr>\n",
       "      <th>672</th>\n",
       "      <td>tt0000679</td>\n",
       "      <td>movie</td>\n",
       "      <td>The Fairylogue and Radio-Plays</td>\n",
       "      <td>The Fairylogue and Radio-Plays</td>\n",
       "      <td>0</td>\n",
       "      <td>1908</td>\n",
       "      <td>NaN</td>\n",
       "      <td>120</td>\n",
       "      <td>Adventure,Fantasy</td>\n",
       "    </tr>\n",
       "    <tr>\n",
       "      <th>930</th>\n",
       "      <td>tt0000941</td>\n",
       "      <td>movie</td>\n",
       "      <td>Locura de amor</td>\n",
       "      <td>Locura de amor</td>\n",
       "      <td>0</td>\n",
       "      <td>1909</td>\n",
       "      <td>NaN</td>\n",
       "      <td>45</td>\n",
       "      <td>Drama</td>\n",
       "    </tr>\n",
       "  </tbody>\n",
       "</table>\n",
       "</div>"
      ],
      "text/plain": [
       "        tconst titleType                    primaryTitle  \\\n",
       "8    tt0000009     movie                      Miss Jerry   \n",
       "570  tt0000574     movie     The Story of the Kelly Gang   \n",
       "587  tt0000591     movie                The Prodigal Son   \n",
       "672  tt0000679     movie  The Fairylogue and Radio-Plays   \n",
       "930  tt0000941     movie                  Locura de amor   \n",
       "\n",
       "                      originalTitle isAdult startYear endYear runtimeMinutes  \\\n",
       "8                        Miss Jerry       0      1894     NaN             45   \n",
       "570     The Story of the Kelly Gang       0      1906     NaN             70   \n",
       "587               L'enfant prodigue       0      1907     NaN             90   \n",
       "672  The Fairylogue and Radio-Plays       0      1908     NaN            120   \n",
       "930                  Locura de amor       0      1909     NaN             45   \n",
       "\n",
       "                         genres  \n",
       "8                       Romance  \n",
       "570  Action,Adventure,Biography  \n",
       "587                       Drama  \n",
       "672           Adventure,Fantasy  \n",
       "930                       Drama  "
      ]
     },
     "execution_count": 12,
     "metadata": {},
     "output_type": "execute_result"
    }
   ],
   "source": [
    "basics_movie.head()"
   ]
  },
  {
   "cell_type": "code",
   "execution_count": 13,
   "id": "98a587a8",
   "metadata": {},
   "outputs": [
    {
     "name": "stderr",
     "output_type": "stream",
     "text": [
      "C:\\Users\\akinde.kadjo\\AppData\\Local\\Temp\\ipykernel_30332\\2836975049.py:2: SettingWithCopyWarning: \n",
      "A value is trying to be set on a copy of a slice from a DataFrame.\n",
      "Try using .loc[row_indexer,col_indexer] = value instead\n",
      "\n",
      "See the caveats in the documentation: https://pandas.pydata.org/pandas-docs/stable/user_guide/indexing.html#returning-a-view-versus-a-copy\n",
      "  basics_movie['startYear'] = basics_movie['startYear'].astype(float)\n"
     ]
    },
    {
     "data": {
      "text/plain": [
       "(215584, 9)"
      ]
     },
     "execution_count": 13,
     "metadata": {},
     "output_type": "execute_result"
    }
   ],
   "source": [
    "#keep startYear 2000-2022\n",
    "basics_movie['startYear'] = basics_movie['startYear'].astype(float)\n",
    "year_filt = basics_movie['startYear'] > 2000\n",
    "basics_year = basics_movie[year_filt]\n",
    "basics_year.shape"
   ]
  },
  {
   "cell_type": "code",
   "execution_count": 14,
   "id": "060be343",
   "metadata": {},
   "outputs": [
    {
     "data": {
      "text/plain": [
       "(142395, 9)"
      ]
     },
     "execution_count": 14,
     "metadata": {},
     "output_type": "execute_result"
    }
   ],
   "source": [
    "#Eliminate movies that include \"Documentary\" in genre\n",
    "is_documentary = basics_year['genres'].str.contains('documentary',case=False)\n",
    "basic_genre = basics_year[~is_documentary]\n",
    "basic_genre.shape"
   ]
  },
  {
   "cell_type": "code",
   "execution_count": 15,
   "id": "99ee9ad3",
   "metadata": {},
   "outputs": [
    {
     "data": {
      "text/plain": [
       "(82225, 9)"
      ]
     },
     "execution_count": 15,
     "metadata": {},
     "output_type": "execute_result"
    }
   ],
   "source": [
    "#Keep only US movies \n",
    "# Filter the basics table down to only include the US by using the filter akas dataframe\n",
    "keepers =basic_genre['tconst'].isin(akas_df['titleId'])\n",
    "basics_df = basic_genre[keepers]\n",
    "basics_df.shape"
   ]
  },
  {
   "cell_type": "code",
   "execution_count": 16,
   "id": "d99d0477",
   "metadata": {},
   "outputs": [],
   "source": [
    "#saving it to the Data folder\n",
    "basics_df.to_csv('Data/basics.csv') "
   ]
  },
  {
   "cell_type": "markdown",
   "id": "c26b028f",
   "metadata": {},
   "source": [
    "## Ratings df Cleaning"
   ]
  },
  {
   "cell_type": "code",
   "execution_count": 17,
   "id": "35f95e71",
   "metadata": {},
   "outputs": [
    {
     "data": {
      "text/html": [
       "<div>\n",
       "<style scoped>\n",
       "    .dataframe tbody tr th:only-of-type {\n",
       "        vertical-align: middle;\n",
       "    }\n",
       "\n",
       "    .dataframe tbody tr th {\n",
       "        vertical-align: top;\n",
       "    }\n",
       "\n",
       "    .dataframe thead th {\n",
       "        text-align: right;\n",
       "    }\n",
       "</style>\n",
       "<table border=\"1\" class=\"dataframe\">\n",
       "  <thead>\n",
       "    <tr style=\"text-align: right;\">\n",
       "      <th></th>\n",
       "      <th>tconst</th>\n",
       "      <th>averageRating</th>\n",
       "      <th>numVotes</th>\n",
       "    </tr>\n",
       "  </thead>\n",
       "  <tbody>\n",
       "    <tr>\n",
       "      <th>0</th>\n",
       "      <td>tt0000001</td>\n",
       "      <td>5.7</td>\n",
       "      <td>1922</td>\n",
       "    </tr>\n",
       "    <tr>\n",
       "      <th>1</th>\n",
       "      <td>tt0000002</td>\n",
       "      <td>5.8</td>\n",
       "      <td>259</td>\n",
       "    </tr>\n",
       "    <tr>\n",
       "      <th>2</th>\n",
       "      <td>tt0000003</td>\n",
       "      <td>6.5</td>\n",
       "      <td>1734</td>\n",
       "    </tr>\n",
       "    <tr>\n",
       "      <th>3</th>\n",
       "      <td>tt0000004</td>\n",
       "      <td>5.6</td>\n",
       "      <td>174</td>\n",
       "    </tr>\n",
       "    <tr>\n",
       "      <th>4</th>\n",
       "      <td>tt0000005</td>\n",
       "      <td>6.2</td>\n",
       "      <td>2545</td>\n",
       "    </tr>\n",
       "  </tbody>\n",
       "</table>\n",
       "</div>"
      ],
      "text/plain": [
       "      tconst  averageRating  numVotes\n",
       "0  tt0000001            5.7      1922\n",
       "1  tt0000002            5.8       259\n",
       "2  tt0000003            6.5      1734\n",
       "3  tt0000004            5.6       174\n",
       "4  tt0000005            6.2      2545"
      ]
     },
     "execution_count": 17,
     "metadata": {},
     "output_type": "execute_result"
    }
   ],
   "source": [
    "#Replace \"\\N\" with np.nan\n",
    "ratings.replace({'\\\\N':np.nan}, inplace = True)\n",
    "ratings.head()"
   ]
  },
  {
   "cell_type": "code",
   "execution_count": 42,
   "id": "6eb297a3",
   "metadata": {},
   "outputs": [
    {
     "data": {
      "text/plain": [
       "(1246148, 3)"
      ]
     },
     "execution_count": 42,
     "metadata": {},
     "output_type": "execute_result"
    }
   ],
   "source": [
    "ratings.shape"
   ]
  },
  {
   "cell_type": "code",
   "execution_count": 45,
   "id": "4dd090bc",
   "metadata": {},
   "outputs": [
    {
     "data": {
      "text/plain": [
       "(474250, 3)"
      ]
     },
     "execution_count": 45,
     "metadata": {},
     "output_type": "execute_result"
    }
   ],
   "source": [
    "#keep only US movies\n",
    "# Filter the basics table down to only include the US by using the filter akas dataframe\n",
    "keepers =ratings['tconst'].isin(akas_df['titleId'])\n",
    "ratings_df = ratings[keepers]\n",
    "ratings_df.shape"
   ]
  },
  {
   "cell_type": "code",
   "execution_count": null,
   "id": "12df107b",
   "metadata": {},
   "outputs": [],
   "source": [
    "#saving it to the Data folder\n",
    "ratings_df.to_csv('Data/ratings.csv') "
   ]
  }
 ],
 "metadata": {
  "kernelspec": {
   "display_name": "Python (dojo-env)",
   "language": "python",
   "name": "dojo-env"
  },
  "language_info": {
   "codemirror_mode": {
    "name": "ipython",
    "version": 3
   },
   "file_extension": ".py",
   "mimetype": "text/x-python",
   "name": "python",
   "nbconvert_exporter": "python",
   "pygments_lexer": "ipython3",
   "version": "3.8.13"
  },
  "toc": {
   "base_numbering": 1,
   "nav_menu": {},
   "number_sections": false,
   "sideBar": true,
   "skip_h1_title": false,
   "title_cell": "Table of Contents",
   "title_sidebar": "Contents",
   "toc_cell": false,
   "toc_position": {
    "height": "calc(100% - 180px)",
    "left": "10px",
    "top": "150px",
    "width": "246.667px"
   },
   "toc_section_display": true,
   "toc_window_display": false
  }
 },
 "nbformat": 4,
 "nbformat_minor": 5
}
